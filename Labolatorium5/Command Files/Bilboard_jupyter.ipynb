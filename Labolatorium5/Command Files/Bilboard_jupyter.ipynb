{
 "cells": [
  {
   "cell_type": "code",
   "execution_count": 1,
   "id": "3690a00b",
   "metadata": {},
   "outputs": [
    {
     "name": "stdout",
     "output_type": "stream",
     "text": [
      "     year      artist.inverted                                  track  time  \\\n",
      "0    2000      Destiny's Child               Independent Women Part I  3:38   \n",
      "1    2000              Santana                           Maria, Maria  4:18   \n",
      "2    2000        Savage Garden                     I Knew I Loved You  4:07   \n",
      "3    2000              Madonna                                  Music  3:45   \n",
      "4    2000  Aguilera, Christina  Come On Over Baby (All I Want Is You)  3:38   \n",
      "..    ...                  ...                                    ...   ...   \n",
      "312  2000     Ghostface Killah                       Cherchez LaGhost  3:04   \n",
      "313  2000          Smith, Will                            Freakin' It  3:58   \n",
      "314  2000        Zombie Nation                          Kernkraft 400  3:30   \n",
      "315  2000       Eastsidaz, The                               Got Beef  3:58   \n",
      "316  2000               Fragma                         Toca's Miracle  3:22   \n",
      "\n",
      "    genre date.entered date.peaked  x1st.week  x2nd.week  x3rd.week  ...  \\\n",
      "0    Rock   2000-09-23  2000-11-18         78       63.0       49.0  ...   \n",
      "1    Rock   2000-02-12  2000-04-08         15        8.0        6.0  ...   \n",
      "2    Rock   1999-10-23  2000-01-29         71       48.0       43.0  ...   \n",
      "3    Rock   2000-08-12  2000-09-16         41       23.0       18.0  ...   \n",
      "4    Rock   2000-08-05  2000-10-14         57       47.0       45.0  ...   \n",
      "..    ...          ...         ...        ...        ...        ...  ...   \n",
      "312   R&B   2000-08-05  2000-08-05         98        NaN        NaN  ...   \n",
      "313   Rap   2000-02-12  2000-02-12         99       99.0       99.0  ...   \n",
      "314  Rock   2000-09-02  2000-09-02         99       99.0        NaN  ...   \n",
      "315   Rap   2000-07-01  2000-07-01         99       99.0        NaN  ...   \n",
      "316   R&B   2000-10-28  2000-10-28         99        NaN        NaN  ...   \n",
      "\n",
      "     x67th.week  x68th.week  x69th.week  x70th.week  x71st.week  x72nd.week  \\\n",
      "0           NaN         NaN         NaN         NaN         NaN         NaN   \n",
      "1           NaN         NaN         NaN         NaN         NaN         NaN   \n",
      "2           NaN         NaN         NaN         NaN         NaN         NaN   \n",
      "3           NaN         NaN         NaN         NaN         NaN         NaN   \n",
      "4           NaN         NaN         NaN         NaN         NaN         NaN   \n",
      "..          ...         ...         ...         ...         ...         ...   \n",
      "312         NaN         NaN         NaN         NaN         NaN         NaN   \n",
      "313         NaN         NaN         NaN         NaN         NaN         NaN   \n",
      "314         NaN         NaN         NaN         NaN         NaN         NaN   \n",
      "315         NaN         NaN         NaN         NaN         NaN         NaN   \n",
      "316         NaN         NaN         NaN         NaN         NaN         NaN   \n",
      "\n",
      "     x73rd.week  x74th.week  x75th.week  x76th.week  \n",
      "0           NaN         NaN         NaN         NaN  \n",
      "1           NaN         NaN         NaN         NaN  \n",
      "2           NaN         NaN         NaN         NaN  \n",
      "3           NaN         NaN         NaN         NaN  \n",
      "4           NaN         NaN         NaN         NaN  \n",
      "..          ...         ...         ...         ...  \n",
      "312         NaN         NaN         NaN         NaN  \n",
      "313         NaN         NaN         NaN         NaN  \n",
      "314         NaN         NaN         NaN         NaN  \n",
      "315         NaN         NaN         NaN         NaN  \n",
      "316         NaN         NaN         NaN         NaN  \n",
      "\n",
      "[317 rows x 83 columns]\n"
     ]
    }
   ],
   "source": [
    "import pandas as pd\n",
    "import math\n",
    "rank = pd.read_csv('billboard.csv', encoding= 'unicode_escape')\n",
    "                                                \n",
    "print(rank)\n"
   ]
  },
  {
   "cell_type": "code",
   "execution_count": 2,
   "id": "5a08aa1d",
   "metadata": {},
   "outputs": [],
   "source": [
    "id_rank_max=list(range(0,rank.shape[0]))\n",
    "rank.insert(0,\"id\",id_rank_max)\n"
   ]
  },
  {
   "cell_type": "code",
   "execution_count": 3,
   "id": "c0ce292d",
   "metadata": {},
   "outputs": [],
   "source": [
    "rank_sorted=rank.copy()\n",
    "del rank_sorted['year']\n",
    "del rank_sorted['artist.inverted']\n",
    "del rank_sorted['track']\n",
    "del rank_sorted['genre']\n",
    "del rank_sorted['date.entered']\n",
    "del rank_sorted['date.peaked']\n",
    "del rank_sorted['id']\n",
    "del rank_sorted['time']"
   ]
  },
  {
   "cell_type": "code",
   "execution_count": 4,
   "id": "028995ce",
   "metadata": {},
   "outputs": [],
   "source": [
    "temp_iter=0\n",
    "temp=pd.DataFrame()\n",
    "for column in rank_sorted:      \n",
    "    temp.insert(temp_iter,column,rank_sorted[column])\n",
    "    temp_iter=temp_iter+1 \n",
    "     "
   ]
  },
  {
   "cell_type": "code",
   "execution_count": null,
   "id": "8c2b61d2",
   "metadata": {},
   "outputs": [],
   "source": []
  },
  {
   "cell_type": "code",
   "execution_count": 5,
   "id": "e7de0853",
   "metadata": {},
   "outputs": [
    {
     "name": "stdout",
     "output_type": "stream",
     "text": [
      "       index_of_title  rank       date\n",
      "684                 9  81.0 1999-06-05\n",
      "685                 9  54.0 1999-06-12\n",
      "686                 9  44.0 1999-06-19\n",
      "687                 9  39.0 1999-06-26\n",
      "688                 9  38.0 1999-07-03\n",
      "...               ...   ...        ...\n",
      "1875               24  42.0 2001-03-31\n",
      "12938             170  91.0 2001-03-31\n",
      "1471               19  46.0 2001-04-07\n",
      "1876               24  49.0 2001-04-07\n",
      "12939             170  99.0 2001-04-07\n",
      "\n",
      "[5307 rows x 3 columns]\n",
      "      id                                  track      artist.inverted\n",
      "0      0               Independent Women Part I      Destiny's Child\n",
      "1      1                           Maria, Maria              Santana\n",
      "2      2                     I Knew I Loved You        Savage Garden\n",
      "3      3                                  Music              Madonna\n",
      "4      4  Come On Over Baby (All I Want Is You)  Aguilera, Christina\n",
      "..   ...                                    ...                  ...\n",
      "312  312                       Cherchez LaGhost     Ghostface Killah\n",
      "313  313                            Freakin' It          Smith, Will\n",
      "314  314                          Kernkraft 400        Zombie Nation\n",
      "315  315                               Got Beef       Eastsidaz, The\n",
      "316  316                         Toca's Miracle               Fragma\n",
      "\n",
      "[317 rows x 3 columns]\n"
     ]
    }
   ],
   "source": [
    "\n",
    "data_rank_id=pd.DataFrame()\n",
    "ready=pd.DataFrame()\n",
    "\n",
    "temp1=temp.T   \n",
    "    \n",
    "temp_add=pd.DataFrame()\n",
    "for index in range(0,317,1):\n",
    "\n",
    "    list_index=[index]*76\n",
    "    \n",
    "    temp_add=pd.DataFrame({'rank':temp1[index]})\n",
    "    temp_add.insert(0,'index_of_title',list_index) \n",
    "    \n",
    "     #kolejne daty bycia w rankingu \n",
    "    temp_add['date'] = pd.date_range(start=rank['date.entered'][index], periods=len(temp_add), freq='7D')\n",
    "    \n",
    "    data_rank_id=pd.concat([data_rank_id,temp_add],axis=0,ignore_index = True)\n",
    "\n",
    "    \n",
    "    \n",
    "data_rank_id=data_rank_id.dropna()\n",
    "ranking_track_by_date=data_rank_id.sort_values(by=[\"date\",'rank'])\n",
    "print(ranking_track_by_date)   \n",
    "title_song_id=rank[[\"id\",\"track\",\"artist.inverted\"]].copy()\n",
    "print(title_song_id)     \n",
    "title_song_id.to_csv('list_track')\n",
    "ranking_track_by_date.to_csv('ranking_track_by_date')\n",
    "\n"
   ]
  },
  {
   "cell_type": "markdown",
   "id": "46cde866",
   "metadata": {},
   "source": [
    "Wnioski:\n",
    "Dane były trudne do przerobienia. Jak widać są bardzo poszatkowane i niekompletne,\n",
    "Udało się uzyskać tabelę posortowaną według daty i rankingu piosenki.\n",
    "\n",
    "\n",
    "\n"
   ]
  },
  {
   "cell_type": "code",
   "execution_count": null,
   "id": "cc045957",
   "metadata": {},
   "outputs": [],
   "source": []
  }
 ],
 "metadata": {
  "kernelspec": {
   "display_name": "Python 3 (ipykernel)",
   "language": "python",
   "name": "python3"
  },
  "language_info": {
   "codemirror_mode": {
    "name": "ipython",
    "version": 3
   },
   "file_extension": ".py",
   "mimetype": "text/x-python",
   "name": "python",
   "nbconvert_exporter": "python",
   "pygments_lexer": "ipython3",
   "version": "3.10.4"
  }
 },
 "nbformat": 4,
 "nbformat_minor": 5
}
