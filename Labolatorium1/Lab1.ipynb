{
 "cells": [
  {
   "cell_type": "markdown",
   "id": "63e7d7ea",
   "metadata": {},
   "source": [
    "# <h1><center>Sprawozdanie</center></h1>\n",
    "\n",
    "                   Mateusz Lęcznar\n",
    "Link do github:\n",
    "https://github.com/MateuszLecznar/Analiza-i-bazy-danych-2022.git\n",
    "\n",
    "Opis ćwiczenia:\n",
    "Celem ćwiczenia jest przygotowanie środowiska do dalszej pracy.\n"
   ]
  },
  {
   "cell_type": "code",
   "execution_count": 32,
   "id": "dec201da",
   "metadata": {
    "scrolled": false
   },
   "outputs": [
    {
     "data": {
      "image/png": "[encoded data removed]",
      "text/plain": [
       "<Figure size 432x288 with 1 Axes>"
      ]
     },
     "metadata": {
      "needs_background": "light"
     },
     "output_type": "display_data"
    }
   ],
   "source": [
    "import numpy as np \n",
    "import matplotlib.pyplot as plt\n",
    "\n",
    "def fun(start,stop):\n",
    "    x = np.linspace(start, stop, 100)\n",
    "    y = x ** 2 + 5\n",
    "    \n",
    "    return x, y \n",
    "\n",
    "x1, y1 = fun(-1, 1)\n",
    "x2, y2 = fun(-6, 6)\n",
    "x3, y3 = fun(0, 5)\n",
    "\n",
    "plt.plot(x1, y1, label=\"przedział 1\")\n",
    "plt.plot(x2, y3, label=\"przedział 2\")\n",
    "plt.plot(x3, y3, label=\"przedział 3\")\n",
    "plt.legend()\n",
    "plt.title(\"f(x)=x ** 2 + 5\")\n",
    "plt.grid()\n",
    "plt.show()\n",
    "     "
   ]
  },
  {
   "cell_type": "markdown",
   "id": "adc10aa7",
   "metadata": {},
   "source": [
    "Utworzenie prostego dataframe:\n",
    "Wyświetlenie informacji o danych w kolumnie (typ)"
   ]
  },
  {
   "cell_type": "code",
   "execution_count": 33,
   "id": "dcfb479e",
   "metadata": {},
   "outputs": [
    {
     "name": "stdout",
     "output_type": "stream",
     "text": [
      "<class 'pandas.core.frame.DataFrame'>\n",
      "RangeIndex: 5 entries, 0 to 4\n",
      "Data columns (total 4 columns):\n",
      " #   Column   Non-Null Count  Dtype \n",
      "---  ------   --------------  ----- \n",
      " 0   Name     5 non-null      object\n",
      " 1   Surname  5 non-null      object\n",
      " 2   Age      5 non-null      object\n",
      " 3   Sex      5 non-null      object\n",
      "dtypes: object(4)\n",
      "memory usage: 288.0+ bytes\n"
     ]
    },
    {
     "data": {
      "text/html": [
       "<div>\n",
       "<style scoped>\n",
       "    .dataframe tbody tr th:only-of-type {\n",
       "        vertical-align: middle;\n",
       "    }\n",
       "\n",
       "    .dataframe tbody tr th {\n",
       "        vertical-align: top;\n",
       "    }\n",
       "\n",
       "    .dataframe thead th {\n",
       "        text-align: right;\n",
       "    }\n",
       "</style>\n",
       "<table border=\"1\" class=\"dataframe\">\n",
       "  <thead>\n",
       "    <tr style=\"text-align: right;\">\n",
       "      <th></th>\n",
       "      <th>Name</th>\n",
       "      <th>Surname</th>\n",
       "      <th>Age</th>\n",
       "      <th>Sex</th>\n",
       "    </tr>\n",
       "  </thead>\n",
       "  <tbody>\n",
       "    <tr>\n",
       "      <th>0</th>\n",
       "      <td>Jessica</td>\n",
       "      <td>Swift</td>\n",
       "      <td>23</td>\n",
       "      <td>woman</td>\n",
       "    </tr>\n",
       "    <tr>\n",
       "      <th>1</th>\n",
       "      <td>Kuba</td>\n",
       "      <td>Swift</td>\n",
       "      <td>43</td>\n",
       "      <td>man</td>\n",
       "    </tr>\n",
       "    <tr>\n",
       "      <th>2</th>\n",
       "      <td>Jessica</td>\n",
       "      <td>Swift</td>\n",
       "      <td>23</td>\n",
       "      <td>woman</td>\n",
       "    </tr>\n",
       "  </tbody>\n",
       "</table>\n",
       "</div>"
      ],
      "text/plain": [
       "      Name Surname Age    Sex\n",
       "0  Jessica   Swift  23  woman\n",
       "1     Kuba   Swift  43    man\n",
       "2  Jessica   Swift  23  woman"
      ]
     },
     "execution_count": 33,
     "metadata": {},
     "output_type": "execute_result"
    }
   ],
   "source": [
    "import pandas as pd\n",
    "\n",
    "d = pd.DataFrame(np.array([[\"Jessica\", \"Swift\",23, \"woman\"],[\"Kuba\", \"Swift\",43, \"man\"],[\"Jessica\", \"Swift\",23, \"woman\"],[\"Jessica\", \"Swift\",23, \"woman\"],[\"Jessica\", \"Swift\",23, \"woman\"]]),columns = [\"Name\",\"Surname\",\"Age\",\"Sex\"])\n",
    "d.info(verbose=True) \n",
    "d.describe()\n",
    "d.head(3)"
   ]
  },
  {
   "cell_type": "code",
   "execution_count": 31,
   "id": "c644597b",
   "metadata": {},
   "outputs": [
    {
     "data": {
      "text/html": [
       "<div>\n",
       "<style scoped>\n",
       "    .dataframe tbody tr th:only-of-type {\n",
       "        vertical-align: middle;\n",
       "    }\n",
       "\n",
       "    .dataframe tbody tr th {\n",
       "        vertical-align: top;\n",
       "    }\n",
       "\n",
       "    .dataframe thead th {\n",
       "        text-align: right;\n",
       "    }\n",
       "</style>\n",
       "<table border=\"1\" class=\"dataframe\">\n",
       "  <thead>\n",
       "    <tr style=\"text-align: right;\">\n",
       "      <th></th>\n",
       "      <th>Name</th>\n",
       "      <th>Surname</th>\n",
       "      <th>Age</th>\n",
       "      <th>Sex</th>\n",
       "    </tr>\n",
       "  </thead>\n",
       "  <tbody>\n",
       "    <tr>\n",
       "      <th>count</th>\n",
       "      <td>5</td>\n",
       "      <td>5</td>\n",
       "      <td>5</td>\n",
       "      <td>5</td>\n",
       "    </tr>\n",
       "    <tr>\n",
       "      <th>unique</th>\n",
       "      <td>2</td>\n",
       "      <td>1</td>\n",
       "      <td>2</td>\n",
       "      <td>2</td>\n",
       "    </tr>\n",
       "    <tr>\n",
       "      <th>top</th>\n",
       "      <td>Jessica</td>\n",
       "      <td>Swift</td>\n",
       "      <td>23</td>\n",
       "      <td>woman</td>\n",
       "    </tr>\n",
       "    <tr>\n",
       "      <th>freq</th>\n",
       "      <td>4</td>\n",
       "      <td>5</td>\n",
       "      <td>4</td>\n",
       "      <td>4</td>\n",
       "    </tr>\n",
       "  </tbody>\n",
       "</table>\n",
       "</div>"
      ],
      "text/plain": [
       "           Name Surname Age    Sex\n",
       "count         5       5   5      5\n",
       "unique        2       1   2      2\n",
       "top     Jessica   Swift  23  woman\n",
       "freq          4       5   4      4"
      ]
     },
     "execution_count": 31,
     "metadata": {},
     "output_type": "execute_result"
    }
   ],
   "source": [
    "d.describe()"
   ]
  },
  {
   "cell_type": "code",
   "execution_count": null,
   "id": "0734bb42",
   "metadata": {},
   "outputs": [],
   "source": []
  }
 ],
 "metadata": {
  "kernelspec": {
   "display_name": "Python 3 (ipykernel)",
   "language": "python",
   "name": "python3"
  },
  "language_info": {
   "codemirror_mode": {
    "name": "ipython",
    "version": 3
   },
   "file_extension": ".py",
   "mimetype": "text/x-python",
   "name": "python",
   "nbconvert_exporter": "python",
   "pygments_lexer": "ipython3",
   "version": "3.9.12"
  }
 },
 "nbformat": 4,
 "nbformat_minor": 5
}
